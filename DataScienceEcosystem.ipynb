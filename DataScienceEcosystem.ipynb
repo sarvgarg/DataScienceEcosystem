{
  "cells": [
    {
      "cell_type": "markdown",
      "id": "4c060e69-4073-46e8-86f1-dfc878902968",
      "metadata": {
        "id": "4c060e69-4073-46e8-86f1-dfc878902968"
      },
      "source": [
        "# Data Science Tools and Ecosystem"
      ]
    },
    {
      "cell_type": "markdown",
      "id": "87bd33bb-5238-49e6-9f01-757b744762b9",
      "metadata": {
        "id": "87bd33bb-5238-49e6-9f01-757b744762b9"
      },
      "source": [
        "In this notebook, Data Science Tools and Ecosystem are summarized."
      ]
    },
    {
      "cell_type": "markdown",
      "id": "4c627c14-c70b-4ad8-8167-f9bfccc69d85",
      "metadata": {
        "id": "4c627c14-c70b-4ad8-8167-f9bfccc69d85"
      },
      "source": [
        "**Objectives:**\n",
        "\n",
        "- Add comments to code cells.\n",
        "- Create markdown cells.\n",
        "- Add ordered and unordered lists to markdown cells.\n",
        "- Format contents of markdown cells with heading styles."
      ]
    },
    {
      "cell_type": "markdown",
      "id": "2dddd165-462a-48ae-ae15-656e22e0b2b9",
      "metadata": {
        "id": "2dddd165-462a-48ae-ae15-656e22e0b2b9"
      },
      "source": [
        "## Author\n",
        "Sarvapriya Garg"
      ]
    },
    {
      "cell_type": "markdown",
      "id": "a116d576-61af-48b9-899b-5bc2bc6615db",
      "metadata": {
        "id": "a116d576-61af-48b9-899b-5bc2bc6615db"
      },
      "source": [
        "Some of the popular languages that Data Scientists use are:\n",
        "\n",
        "1. C++\n",
        "2. JavaScript\n",
        "3. Julia\n",
        "4. PHP\n",
        "5. Python\n",
        "6. R\n",
        "7. Ruby\n",
        "8. Scala\n",
        "9. SQL\n",
        "10. Visual Basics"
      ]
    },
    {
      "cell_type": "markdown",
      "id": "9c270c81-8ae9-4999-ace9-764cc33b3668",
      "metadata": {
        "id": "9c270c81-8ae9-4999-ace9-764cc33b3668"
      },
      "source": [
        "Some of the commonly used libraries used by Data Scientists include:\n",
        "\n",
        "1. Apache Spark\n",
        "2. Big DL\n",
        "3. Ggplot2\n",
        "4. Keras\n",
        "5. Matplotlib\n",
        "6. NumPy\n",
        "7. Pandas\n",
        "8. Scikit-learn\n",
        "9. TensorFlow\n",
        "10. Vegas\n"
      ]
    },
    {
      "cell_type": "markdown",
      "id": "584cc805-e3ae-4a10-a863-0858e6dd91d1",
      "metadata": {
        "id": "584cc805-e3ae-4a10-a863-0858e6dd91d1"
      },
      "source": [
        "| Data Science Tools        |\n",
        "|---------------------------|\n",
        "| Anaconda                  |\n",
        "| Google Colab              |\n",
        "| Jupyter Notebook          |\n",
        "| RStudio                   |\n",
        "| Spyder                    |\n"
      ]
    },
    {
      "cell_type": "markdown",
      "id": "abc0e26b-27a6-42ee-a8b2-418ec7ff3a89",
      "metadata": {
        "id": "abc0e26b-27a6-42ee-a8b2-418ec7ff3a89"
      },
      "source": [
        "### Below are a few examples of evaluating arithmetic expressions in Python.\n"
      ]
    },
    {
      "cell_type": "code",
      "execution_count": null,
      "id": "410b862e-d9bc-4609-a53f-959e1dbc05b7",
      "metadata": {
        "id": "410b862e-d9bc-4609-a53f-959e1dbc05b7",
        "outputId": "74e0cda3-4b16-45bf-a970-d1e0783c6c84"
      },
      "outputs": [
        {
          "data": {
            "text/plain": [
              "17"
            ]
          },
          "execution_count": 2,
          "metadata": {},
          "output_type": "execute_result"
        }
      ],
      "source": [
        "# This is a simple arithmetic expression to multiply then add integers\n",
        "(3 * 4) + 5"
      ]
    },
    {
      "cell_type": "code",
      "execution_count": null,
      "id": "5dff945b-3f89-4f89-95ea-0c487c95530e",
      "metadata": {
        "id": "5dff945b-3f89-4f89-95ea-0c487c95530e",
        "outputId": "11d350e2-795e-488b-8484-243f58186d99"
      },
      "outputs": [
        {
          "data": {
            "text/plain": [
              "3.3333333333333335"
            ]
          },
          "execution_count": 4,
          "metadata": {},
          "output_type": "execute_result"
        }
      ],
      "source": [
        "# This will convert 200 minutes to hours by dividing by 60\n",
        "200 / 60"
      ]
    }
  ],
  "metadata": {
    "kernelspec": {
      "display_name": "Python 3 (ipykernel)",
      "language": "python",
      "name": "python3"
    },
    "language_info": {
      "codemirror_mode": {
        "name": "ipython",
        "version": 3
      },
      "file_extension": ".py",
      "mimetype": "text/x-python",
      "name": "python",
      "nbconvert_exporter": "python",
      "pygments_lexer": "ipython3",
      "version": "3.12.8"
    },
    "colab": {
      "provenance": []
    }
  },
  "nbformat": 4,
  "nbformat_minor": 5
}